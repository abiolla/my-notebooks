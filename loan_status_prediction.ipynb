{
 "cells": [
  {
   "cell_type": "markdown",
   "id": "3ec9e21b-aea6-4fcd-a77e-f376dcfe5ebc",
   "metadata": {},
   "source": [
    "## Import Dependencies\n"
   ]
  },
  {
   "cell_type": "code",
   "execution_count": 12,
   "id": "6bc358ff-555f-4790-94cd-b1040b96c81c",
   "metadata": {},
   "outputs": [],
   "source": [
    "import numpy as np\n",
    "import pandas as pd \n",
    "import seaborn as sns\n",
    "from sklearn.model_selection import train_test_split\n",
    "from sklearn import svm "
   ]
  },
  {
   "cell_type": "markdown",
   "id": "c7810952-5532-4317-bc54-4db5bff23332",
   "metadata": {},
   "source": [
    "## Data Colletion and Processing"
   ]
  },
  {
   "cell_type": "code",
   "execution_count": 15,
   "id": "27104fbb-34f5-4cac-9c7c-f5fd496b6e16",
   "metadata": {},
   "outputs": [],
   "source": [
    "loan_data = pd.read_csv('loan_dataset.csv')"
   ]
  },
  {
   "cell_type": "code",
   "execution_count": 17,
   "id": "eb225f56-7687-4e81-a003-f0970e88a5bc",
   "metadata": {},
   "outputs": [
    {
     "data": {
      "text/html": [
       "<div>\n",
       "<style scoped>\n",
       "    .dataframe tbody tr th:only-of-type {\n",
       "        vertical-align: middle;\n",
       "    }\n",
       "\n",
       "    .dataframe tbody tr th {\n",
       "        vertical-align: top;\n",
       "    }\n",
       "\n",
       "    .dataframe thead th {\n",
       "        text-align: right;\n",
       "    }\n",
       "</style>\n",
       "<table border=\"1\" class=\"dataframe\">\n",
       "  <thead>\n",
       "    <tr style=\"text-align: right;\">\n",
       "      <th></th>\n",
       "      <th>Loan_ID</th>\n",
       "      <th>Gender</th>\n",
       "      <th>Married</th>\n",
       "      <th>Dependents</th>\n",
       "      <th>Education</th>\n",
       "      <th>Self_Employed</th>\n",
       "      <th>ApplicantIncome</th>\n",
       "      <th>CoapplicantIncome</th>\n",
       "      <th>LoanAmount</th>\n",
       "      <th>Loan_Amount_Term</th>\n",
       "      <th>Credit_History</th>\n",
       "      <th>Property_Area</th>\n",
       "      <th>Loan_Status</th>\n",
       "    </tr>\n",
       "  </thead>\n",
       "  <tbody>\n",
       "    <tr>\n",
       "      <th>0</th>\n",
       "      <td>LP001002</td>\n",
       "      <td>Male</td>\n",
       "      <td>No</td>\n",
       "      <td>0</td>\n",
       "      <td>Graduate</td>\n",
       "      <td>No</td>\n",
       "      <td>5849</td>\n",
       "      <td>0.0</td>\n",
       "      <td>NaN</td>\n",
       "      <td>360.0</td>\n",
       "      <td>1.0</td>\n",
       "      <td>Urban</td>\n",
       "      <td>Y</td>\n",
       "    </tr>\n",
       "    <tr>\n",
       "      <th>1</th>\n",
       "      <td>LP001003</td>\n",
       "      <td>Male</td>\n",
       "      <td>Yes</td>\n",
       "      <td>1</td>\n",
       "      <td>Graduate</td>\n",
       "      <td>No</td>\n",
       "      <td>4583</td>\n",
       "      <td>1508.0</td>\n",
       "      <td>128.0</td>\n",
       "      <td>360.0</td>\n",
       "      <td>1.0</td>\n",
       "      <td>Rural</td>\n",
       "      <td>N</td>\n",
       "    </tr>\n",
       "    <tr>\n",
       "      <th>2</th>\n",
       "      <td>LP001005</td>\n",
       "      <td>Male</td>\n",
       "      <td>Yes</td>\n",
       "      <td>0</td>\n",
       "      <td>Graduate</td>\n",
       "      <td>Yes</td>\n",
       "      <td>3000</td>\n",
       "      <td>0.0</td>\n",
       "      <td>66.0</td>\n",
       "      <td>360.0</td>\n",
       "      <td>1.0</td>\n",
       "      <td>Urban</td>\n",
       "      <td>Y</td>\n",
       "    </tr>\n",
       "    <tr>\n",
       "      <th>3</th>\n",
       "      <td>LP001006</td>\n",
       "      <td>Male</td>\n",
       "      <td>Yes</td>\n",
       "      <td>0</td>\n",
       "      <td>Not Graduate</td>\n",
       "      <td>No</td>\n",
       "      <td>2583</td>\n",
       "      <td>2358.0</td>\n",
       "      <td>120.0</td>\n",
       "      <td>360.0</td>\n",
       "      <td>1.0</td>\n",
       "      <td>Urban</td>\n",
       "      <td>Y</td>\n",
       "    </tr>\n",
       "    <tr>\n",
       "      <th>4</th>\n",
       "      <td>LP001008</td>\n",
       "      <td>Male</td>\n",
       "      <td>No</td>\n",
       "      <td>0</td>\n",
       "      <td>Graduate</td>\n",
       "      <td>No</td>\n",
       "      <td>6000</td>\n",
       "      <td>0.0</td>\n",
       "      <td>141.0</td>\n",
       "      <td>360.0</td>\n",
       "      <td>1.0</td>\n",
       "      <td>Urban</td>\n",
       "      <td>Y</td>\n",
       "    </tr>\n",
       "  </tbody>\n",
       "</table>\n",
       "</div>"
      ],
      "text/plain": [
       "    Loan_ID Gender Married Dependents     Education Self_Employed  \\\n",
       "0  LP001002   Male      No          0      Graduate            No   \n",
       "1  LP001003   Male     Yes          1      Graduate            No   \n",
       "2  LP001005   Male     Yes          0      Graduate           Yes   \n",
       "3  LP001006   Male     Yes          0  Not Graduate            No   \n",
       "4  LP001008   Male      No          0      Graduate            No   \n",
       "\n",
       "   ApplicantIncome  CoapplicantIncome  LoanAmount  Loan_Amount_Term  \\\n",
       "0             5849                0.0         NaN             360.0   \n",
       "1             4583             1508.0       128.0             360.0   \n",
       "2             3000                0.0        66.0             360.0   \n",
       "3             2583             2358.0       120.0             360.0   \n",
       "4             6000                0.0       141.0             360.0   \n",
       "\n",
       "   Credit_History Property_Area Loan_Status  \n",
       "0             1.0         Urban           Y  \n",
       "1             1.0         Rural           N  \n",
       "2             1.0         Urban           Y  \n",
       "3             1.0         Urban           Y  \n",
       "4             1.0         Urban           Y  "
      ]
     },
     "execution_count": 17,
     "metadata": {},
     "output_type": "execute_result"
    }
   ],
   "source": [
    "loan_data.head()"
   ]
  },
  {
   "cell_type": "code",
   "execution_count": 19,
   "id": "6ab7b5f6-d90e-4aaa-a345-7a2601b2d590",
   "metadata": {},
   "outputs": [
    {
     "name": "stdout",
     "output_type": "stream",
     "text": [
      "<class 'pandas.core.frame.DataFrame'>\n",
      "RangeIndex: 614 entries, 0 to 613\n",
      "Data columns (total 13 columns):\n",
      " #   Column             Non-Null Count  Dtype  \n",
      "---  ------             --------------  -----  \n",
      " 0   Loan_ID            614 non-null    object \n",
      " 1   Gender             601 non-null    object \n",
      " 2   Married            611 non-null    object \n",
      " 3   Dependents         599 non-null    object \n",
      " 4   Education          614 non-null    object \n",
      " 5   Self_Employed      582 non-null    object \n",
      " 6   ApplicantIncome    614 non-null    int64  \n",
      " 7   CoapplicantIncome  614 non-null    float64\n",
      " 8   LoanAmount         592 non-null    float64\n",
      " 9   Loan_Amount_Term   600 non-null    float64\n",
      " 10  Credit_History     564 non-null    float64\n",
      " 11  Property_Area      614 non-null    object \n",
      " 12  Loan_Status        614 non-null    object \n",
      "dtypes: float64(4), int64(1), object(8)\n",
      "memory usage: 62.5+ KB\n"
     ]
    }
   ],
   "source": [
    "loan_data.info()"
   ]
  },
  {
   "cell_type": "code",
   "execution_count": 27,
   "id": "78c4cb03-fcca-4cca-9035-43e86a285247",
   "metadata": {},
   "outputs": [
    {
     "data": {
      "text/html": [
       "<div>\n",
       "<style scoped>\n",
       "    .dataframe tbody tr th:only-of-type {\n",
       "        vertical-align: middle;\n",
       "    }\n",
       "\n",
       "    .dataframe tbody tr th {\n",
       "        vertical-align: top;\n",
       "    }\n",
       "\n",
       "    .dataframe thead th {\n",
       "        text-align: right;\n",
       "    }\n",
       "</style>\n",
       "<table border=\"1\" class=\"dataframe\">\n",
       "  <thead>\n",
       "    <tr style=\"text-align: right;\">\n",
       "      <th></th>\n",
       "      <th>ApplicantIncome</th>\n",
       "      <th>CoapplicantIncome</th>\n",
       "      <th>LoanAmount</th>\n",
       "      <th>Loan_Amount_Term</th>\n",
       "      <th>Credit_History</th>\n",
       "    </tr>\n",
       "  </thead>\n",
       "  <tbody>\n",
       "    <tr>\n",
       "      <th>count</th>\n",
       "      <td>614.000000</td>\n",
       "      <td>614.000000</td>\n",
       "      <td>592.000000</td>\n",
       "      <td>600.00000</td>\n",
       "      <td>564.000000</td>\n",
       "    </tr>\n",
       "    <tr>\n",
       "      <th>mean</th>\n",
       "      <td>5403.459283</td>\n",
       "      <td>1621.245798</td>\n",
       "      <td>146.412162</td>\n",
       "      <td>342.00000</td>\n",
       "      <td>0.842199</td>\n",
       "    </tr>\n",
       "    <tr>\n",
       "      <th>std</th>\n",
       "      <td>6109.041673</td>\n",
       "      <td>2926.248369</td>\n",
       "      <td>85.587325</td>\n",
       "      <td>65.12041</td>\n",
       "      <td>0.364878</td>\n",
       "    </tr>\n",
       "    <tr>\n",
       "      <th>min</th>\n",
       "      <td>150.000000</td>\n",
       "      <td>0.000000</td>\n",
       "      <td>9.000000</td>\n",
       "      <td>12.00000</td>\n",
       "      <td>0.000000</td>\n",
       "    </tr>\n",
       "    <tr>\n",
       "      <th>25%</th>\n",
       "      <td>2877.500000</td>\n",
       "      <td>0.000000</td>\n",
       "      <td>100.000000</td>\n",
       "      <td>360.00000</td>\n",
       "      <td>1.000000</td>\n",
       "    </tr>\n",
       "    <tr>\n",
       "      <th>50%</th>\n",
       "      <td>3812.500000</td>\n",
       "      <td>1188.500000</td>\n",
       "      <td>128.000000</td>\n",
       "      <td>360.00000</td>\n",
       "      <td>1.000000</td>\n",
       "    </tr>\n",
       "    <tr>\n",
       "      <th>75%</th>\n",
       "      <td>5795.000000</td>\n",
       "      <td>2297.250000</td>\n",
       "      <td>168.000000</td>\n",
       "      <td>360.00000</td>\n",
       "      <td>1.000000</td>\n",
       "    </tr>\n",
       "    <tr>\n",
       "      <th>max</th>\n",
       "      <td>81000.000000</td>\n",
       "      <td>41667.000000</td>\n",
       "      <td>700.000000</td>\n",
       "      <td>480.00000</td>\n",
       "      <td>1.000000</td>\n",
       "    </tr>\n",
       "  </tbody>\n",
       "</table>\n",
       "</div>"
      ],
      "text/plain": [
       "       ApplicantIncome  CoapplicantIncome  LoanAmount  Loan_Amount_Term  \\\n",
       "count       614.000000         614.000000  592.000000         600.00000   \n",
       "mean       5403.459283        1621.245798  146.412162         342.00000   \n",
       "std        6109.041673        2926.248369   85.587325          65.12041   \n",
       "min         150.000000           0.000000    9.000000          12.00000   \n",
       "25%        2877.500000           0.000000  100.000000         360.00000   \n",
       "50%        3812.500000        1188.500000  128.000000         360.00000   \n",
       "75%        5795.000000        2297.250000  168.000000         360.00000   \n",
       "max       81000.000000       41667.000000  700.000000         480.00000   \n",
       "\n",
       "       Credit_History  \n",
       "count      564.000000  \n",
       "mean         0.842199  \n",
       "std          0.364878  \n",
       "min          0.000000  \n",
       "25%          1.000000  \n",
       "50%          1.000000  \n",
       "75%          1.000000  \n",
       "max          1.000000  "
      ]
     },
     "execution_count": 27,
     "metadata": {},
     "output_type": "execute_result"
    }
   ],
   "source": [
    "loan_data.describe()"
   ]
  },
  {
   "cell_type": "markdown",
   "id": "52633aeb-6467-40d7-80d0-8bca49fb347d",
   "metadata": {},
   "source": [
    "# Handling the null dataset"
   ]
  },
  {
   "cell_type": "code",
   "execution_count": 81,
   "id": "623ccaf2-07f0-4526-b406-95e0b0ff9851",
   "metadata": {},
   "outputs": [
    {
     "name": "stdout",
     "output_type": "stream",
     "text": [
      "Gender               13\n",
      "Married               3\n",
      "Dependents           15\n",
      "Education             0\n",
      "Self_Employed        32\n",
      "ApplicantIncome       0\n",
      "CoapplicantIncome     0\n",
      "LoanAmount           22\n",
      "Loan_Amount_Term     14\n",
      "Credit_History       50\n",
      "Property_Area         0\n",
      "Loan_Status           0\n",
      "dtype: int64\n"
     ]
    }
   ],
   "source": [
    "df = loan_data.drop(columns=['Loan_ID']) \n",
    "\n",
    "print(df.isnull().sum())"
   ]
  },
  {
   "cell_type": "code",
   "execution_count": 83,
   "id": "0d85706b-1567-42b0-af4b-77a841da6339",
   "metadata": {},
   "outputs": [
    {
     "name": "stdout",
     "output_type": "stream",
     "text": [
      "Gender               2.117264\n",
      "Married              0.488599\n",
      "Dependents           2.442997\n",
      "Education            0.000000\n",
      "Self_Employed        5.211726\n",
      "ApplicantIncome      0.000000\n",
      "CoapplicantIncome    0.000000\n",
      "LoanAmount           3.583062\n",
      "Loan_Amount_Term     2.280130\n",
      "Credit_History       8.143322\n",
      "Property_Area        0.000000\n",
      "Loan_Status          0.000000\n",
      "dtype: float64\n"
     ]
    }
   ],
   "source": [
    "missing_percent = df.isnull().mean() * 100\n",
    "print(missing_percent)"
   ]
  },
  {
   "cell_type": "markdown",
   "id": "54f22ed0-74ff-40e8-a0fb-1b3e8cabbb01",
   "metadata": {},
   "source": [
    "\n",
    "##### Checking for null data above shows that the missing percentage in each feature is not that high so inputation for missing values should be fine\n"
   ]
  },
  {
   "cell_type": "code",
   "execution_count": 86,
   "id": "e588c41c-93cd-429f-b770-1957f3942366",
   "metadata": {},
   "outputs": [],
   "source": [
    "categorical_cols = ['Gender', 'Married', 'Dependents', 'Self_Employed']\n",
    "for col in categorical_cols:\n",
    "    mode = df[col].mode()[0]\n",
    "    df.fillna({col:mode}, inplace = True)\n",
    "\n",
    "numeric_cols = ['LoanAmount', 'Loan_Amount_Term', 'Credit_History']\n",
    "for col in numeric_cols:\n",
    "    median = df[col].median()\n",
    "    df.fillna({col:median}, inplace=True)"
   ]
  },
  {
   "cell_type": "code",
   "execution_count": 88,
   "id": "c64b0aa4-4430-4f12-a315-25ca599c9190",
   "metadata": {},
   "outputs": [
    {
     "name": "stdout",
     "output_type": "stream",
     "text": [
      "<class 'pandas.core.frame.DataFrame'>\n",
      "RangeIndex: 614 entries, 0 to 613\n",
      "Data columns (total 12 columns):\n",
      " #   Column             Non-Null Count  Dtype  \n",
      "---  ------             --------------  -----  \n",
      " 0   Gender             614 non-null    object \n",
      " 1   Married            614 non-null    object \n",
      " 2   Dependents         614 non-null    object \n",
      " 3   Education          614 non-null    object \n",
      " 4   Self_Employed      614 non-null    object \n",
      " 5   ApplicantIncome    614 non-null    int64  \n",
      " 6   CoapplicantIncome  614 non-null    float64\n",
      " 7   LoanAmount         614 non-null    float64\n",
      " 8   Loan_Amount_Term   614 non-null    float64\n",
      " 9   Credit_History     614 non-null    float64\n",
      " 10  Property_Area      614 non-null    object \n",
      " 11  Loan_Status        614 non-null    object \n",
      "dtypes: float64(4), int64(1), object(7)\n",
      "memory usage: 57.7+ KB\n"
     ]
    }
   ],
   "source": [
    "df.info()"
   ]
  },
  {
   "cell_type": "markdown",
   "id": "8bbc26f9-e0b2-41a2-91f7-14483ffddf12",
   "metadata": {},
   "source": [
    "## Encoding Categorical Data"
   ]
  },
  {
   "cell_type": "code",
   "execution_count": 91,
   "id": "93379395-076f-4425-8940-a21923da5804",
   "metadata": {},
   "outputs": [],
   "source": [
    "from sklearn.preprocessing import LabelEncoder"
   ]
  },
  {
   "cell_type": "code",
   "execution_count": 93,
   "id": "2b21a042-a806-416c-ae29-8f3b7287e59e",
   "metadata": {},
   "outputs": [],
   "source": [
    "#Label Encode the target variable\n",
    "le = LabelEncoder()\n",
    "\n",
    "df['Loan_Status'] = le.fit_transform(df['Loan_Status'])\n",
    "\n",
    "#one-hot encode other categorical features\n",
    "categorical_features = ['Gender', 'Married', 'Dependents', 'Education', 'Self_Employed', 'Property_Area']\n",
    "df = pd.get_dummies(df, columns=categorical_features)"
   ]
  },
  {
   "cell_type": "code",
   "execution_count": 95,
   "id": "8dfe9c8e-3ad6-453e-af14-f794b104495a",
   "metadata": {},
   "outputs": [
    {
     "name": "stdout",
     "output_type": "stream",
     "text": [
      "['ApplicantIncome', 'CoapplicantIncome', 'LoanAmount', 'Loan_Amount_Term', 'Credit_History', 'Loan_Status', 'Gender_Female', 'Gender_Male', 'Married_No', 'Married_Yes', 'Dependents_0', 'Dependents_1', 'Dependents_2', 'Dependents_3+', 'Education_Graduate', 'Education_Not Graduate', 'Self_Employed_No', 'Self_Employed_Yes', 'Property_Area_Rural', 'Property_Area_Semiurban', 'Property_Area_Urban']\n"
     ]
    }
   ],
   "source": [
    "print(df.columns.tolist())"
   ]
  },
  {
   "cell_type": "code",
   "execution_count": 101,
   "id": "4dc3fbab-b277-43bd-bf67-10fc939ef25d",
   "metadata": {},
   "outputs": [
    {
     "data": {
      "text/plain": [
       "(614, 21)"
      ]
     },
     "execution_count": 101,
     "metadata": {},
     "output_type": "execute_result"
    }
   ],
   "source": [
    "df.shape"
   ]
  },
  {
   "cell_type": "markdown",
   "id": "5a7b6677-c27e-45c2-a847-b8a580717f10",
   "metadata": {},
   "source": [
    "## Split data into train/test"
   ]
  },
  {
   "cell_type": "code",
   "execution_count": 120,
   "id": "bf90b0c3-7c23-4829-8445-663fbfdfa44e",
   "metadata": {},
   "outputs": [],
   "source": [
    "from sklearn.model_selection import train_test_split\n",
    "\n",
    "# Separate features and target\n",
    "X = df.drop(columns=['Loan_Status'])\n",
    "y = df['Loan_Status']\n",
    "\n",
    "# Split 80% train, 20% test\n",
    "X_train, X_test, y_train, y_test = train_test_split(X, y, test_size=0.2, random_state=42)"
   ]
  },
  {
   "cell_type": "markdown",
   "id": "08860d2c-8909-4620-967d-d3fc1ecc648d",
   "metadata": {},
   "source": [
    "### Logistic Regression"
   ]
  },
  {
   "cell_type": "code",
   "execution_count": 122,
   "id": "3e537e52-67bd-4736-ab94-b9ace153dbe1",
   "metadata": {},
   "outputs": [
    {
     "name": "stdout",
     "output_type": "stream",
     "text": [
      "Logistic Regression WITH scaling:\n",
      "              precision    recall  f1-score   support\n",
      "\n",
      "           0       0.95      0.42      0.58        43\n",
      "           1       0.76      0.99      0.86        80\n",
      "\n",
      "    accuracy                           0.79       123\n",
      "   macro avg       0.85      0.70      0.72       123\n",
      "weighted avg       0.83      0.79      0.76       123\n",
      "\n"
     ]
    }
   ],
   "source": [
    "from sklearn.preprocessing import StandardScaler\n",
    "from sklearn.pipeline import make_pipeline\n",
    "\n",
    "# Pipeline: scaling + logistic regression\n",
    "pipe = make_pipeline(StandardScaler(), LogisticRegression(max_iter=1000))\n",
    "pipe.fit(X_train, y_train)\n",
    "\n",
    "# Predict and evaluate\n",
    "y_pred_scaled = pipe.predict(X_test)\n",
    "print(\"Logistic Regression WITH scaling:\")\n",
    "print(classification_report(y_test, y_pred_scaled))"
   ]
  },
  {
   "cell_type": "markdown",
   "id": "51c542f2-4164-4930-8334-c27bc47dcf2a",
   "metadata": {},
   "source": [
    "### SVM"
   ]
  },
  {
   "cell_type": "code",
   "execution_count": 132,
   "id": "fb95369c-5afd-45f8-a766-3f1e037672f4",
   "metadata": {},
   "outputs": [
    {
     "name": "stdout",
     "output_type": "stream",
     "text": [
      "SVM with scaling:\n",
      "              precision    recall  f1-score   support\n",
      "\n",
      "           0       1.00      0.42      0.59        43\n",
      "           1       0.76      1.00      0.86        80\n",
      "\n",
      "    accuracy                           0.80       123\n",
      "   macro avg       0.88      0.71      0.73       123\n",
      "weighted avg       0.85      0.80      0.77       123\n",
      "\n"
     ]
    }
   ],
   "source": [
    "# Pipeline: scale + SVM with default RBF kernel\n",
    "\n",
    "from sklearn.svm import SVC\n",
    "from sklearn.pipeline import make_pipeline\n",
    "from sklearn.preprocessing import StandardScaler\n",
    "from sklearn.metrics import classification_report\n",
    "\n",
    "svm_pipe = make_pipeline(StandardScaler(), SVC())\n",
    "\n",
    "# Train\n",
    "svm_pipe.fit(X_train, y_train)\n",
    "\n",
    "# Predict\n",
    "y_pred_svm = svm_pipe.predict(X_test)\n",
    "\n",
    "# Evaluate\n",
    "print(\"SVM with scaling:\")\n",
    "print(classification_report(y_test, y_pred_svm))"
   ]
  },
  {
   "cell_type": "markdown",
   "id": "c37e2370-eaa4-4cef-b222-765a39621100",
   "metadata": {},
   "source": [
    "## SVM with balanced class weight"
   ]
  },
  {
   "cell_type": "code",
   "execution_count": 137,
   "id": "bf3a4171-9078-43c8-8ca6-001971cc01fb",
   "metadata": {},
   "outputs": [
    {
     "name": "stdout",
     "output_type": "stream",
     "text": [
      "SVM with balanced class weights:\n",
      "              precision    recall  f1-score   support\n",
      "\n",
      "           0       0.58      0.44      0.50        43\n",
      "           1       0.73      0.82      0.78        80\n",
      "\n",
      "    accuracy                           0.69       123\n",
      "   macro avg       0.65      0.63      0.64       123\n",
      "weighted avg       0.68      0.69      0.68       123\n",
      "\n"
     ]
    }
   ],
   "source": [
    "from sklearn.svm import SVC\n",
    "from sklearn.pipeline import make_pipeline\n",
    "from sklearn.preprocessing import StandardScaler\n",
    "from sklearn.metrics import classification_report\n",
    "\n",
    "# Pipeline with class_weight='balanced'\n",
    "svm_balanced_pipe = make_pipeline(\n",
    "    StandardScaler(), \n",
    "    SVC(class_weight='balanced')\n",
    ")\n",
    "\n",
    "# Train\n",
    "svm_balanced_pipe.fit(X_train, y_train)\n",
    "\n",
    "# Predict\n",
    "y_pred_balanced = svm_balanced_pipe.predict(X_test)\n",
    "\n",
    "# Evaluate\n",
    "print(\"SVM with balanced class weights:\")\n",
    "print(classification_report(y_test, y_pred_balanced))\n"
   ]
  },
  {
   "cell_type": "markdown",
   "id": "ec64c811-7fe2-41ce-92d6-1cbb6c094fd6",
   "metadata": {},
   "source": [
    "## Feature importance with random forest"
   ]
  },
  {
   "cell_type": "code",
   "execution_count": 139,
   "id": "1e6aa07c-11b5-441c-af42-c156f08f412b",
   "metadata": {},
   "outputs": [
    {
     "name": "stdout",
     "output_type": "stream",
     "text": [
      "                    Feature  Importance\n",
      "4            Credit_History    0.237304\n",
      "0           ApplicantIncome    0.191275\n",
      "2                LoanAmount    0.180331\n",
      "1         CoapplicantIncome    0.110729\n",
      "3          Loan_Amount_Term    0.046437\n",
      "18  Property_Area_Semiurban    0.025175\n",
      "17      Property_Area_Rural    0.019688\n",
      "9              Dependents_0    0.018773\n",
      "19      Property_Area_Urban    0.018279\n",
      "10             Dependents_1    0.018136\n",
      "8               Married_Yes    0.015942\n",
      "14   Education_Not Graduate    0.015156\n",
      "13       Education_Graduate    0.014684\n",
      "7                Married_No    0.014533\n",
      "6               Gender_Male    0.014056\n",
      "5             Gender_Female    0.013443\n",
      "11             Dependents_2    0.012596\n",
      "15         Self_Employed_No    0.012300\n",
      "16        Self_Employed_Yes    0.011521\n",
      "12            Dependents_3+    0.009644\n"
     ]
    }
   ],
   "source": [
    "from sklearn.ensemble import RandomForestClassifier\n",
    "\n",
    "rf = RandomForestClassifier(random_state=42)\n",
    "rf.fit(X_train, y_train)\n",
    "\n",
    "importances = rf.feature_importances_\n",
    "\n",
    "# Create a DataFrame for easier viewing\n",
    "import pandas as pd\n",
    "feat_importance = pd.DataFrame({'Feature': X_train.columns, 'Importance': importances})\n",
    "feat_importance = feat_importance.sort_values(by='Importance', ascending=False)\n",
    "\n",
    "print(feat_importance)"
   ]
  },
  {
   "cell_type": "markdown",
   "id": "ace0d6ec-cd0e-46a2-af92-219d23f9ce36",
   "metadata": {},
   "source": [
    "## Feature Engineering"
   ]
  },
  {
   "cell_type": "code",
   "execution_count": 143,
   "id": "189444e0-a0c2-4042-b485-de0a518cdee9",
   "metadata": {},
   "outputs": [],
   "source": [
    "# Add TotalIncome\n",
    "df['TotalIncome'] = df['ApplicantIncome'] + df['CoapplicantIncome']\n",
    "\n",
    "# Drop original income columns\n",
    "df = df.drop(columns=['ApplicantIncome', 'CoapplicantIncome'])\n",
    "\n",
    "# List of low-importance features to drop (based on previous importance)\n",
    "low_importance_features = [\n",
    "    'Dependents_3+',\n",
    "    'Self_Employed_Yes',\n",
    "    'Self_Employed_No',\n",
    "    'Gender_Female',\n",
    "    'Gender_Male',\n",
    "    'Married_No',\n",
    "    'Education_Graduate',\n",
    "    'Education_Not Graduate',\n",
    "    # Add any other very low importance features you want to drop\n",
    "]\n",
    "\n",
    "# Drop low importance features if they exist in df\n",
    "for col in low_importance_features:\n",
    "    if col in df.columns:\n",
    "        df = df.drop(columns=[col])\n",
    "\n",
    "# Now your df is updated. Next steps: split, scale, and model.\n",
    "\n",
    "# Example split:\n",
    "from sklearn.model_selection import train_test_split\n",
    "X = df.drop(columns=['Loan_Status'])\n",
    "y = df['Loan_Status']\n",
    "X_train, X_test, y_train, y_test = train_test_split(X, y, test_size=0.2, random_state=42)\n"
   ]
  },
  {
   "cell_type": "markdown",
   "id": "489f52a6-c9db-47ca-9eea-230f65fa9a88",
   "metadata": {},
   "source": [
    "## SVW Algorithn with Feature Engineering"
   ]
  },
  {
   "cell_type": "code",
   "execution_count": 147,
   "id": "f0b7b96a-2824-4548-8567-d3d808661533",
   "metadata": {},
   "outputs": [
    {
     "name": "stdout",
     "output_type": "stream",
     "text": [
      "SVM with feature importance and scaling:\n",
      "              precision    recall  f1-score   support\n",
      "\n",
      "           0       0.95      0.42      0.58        43\n",
      "           1       0.76      0.99      0.86        80\n",
      "\n",
      "    accuracy                           0.79       123\n",
      "   macro avg       0.85      0.70      0.72       123\n",
      "weighted avg       0.83      0.79      0.76       123\n",
      "\n"
     ]
    }
   ],
   "source": [
    "svm_pipe = make_pipeline(StandardScaler(), SVC())\n",
    "\n",
    "# Train\n",
    "svm_pipe.fit(X_train, y_train)\n",
    "\n",
    "# Predict\n",
    "y_pred_svm = svm_pipe.predict(X_test)\n",
    "\n",
    "# Evaluate\n",
    "print(\"SVM with feature importance and scaling:\")\n",
    "print(classification_report(y_test, y_pred_svm))"
   ]
  },
  {
   "cell_type": "code",
   "execution_count": null,
   "id": "6f50da82-b6b2-4176-83e7-8d9cffdeb7a0",
   "metadata": {},
   "outputs": [],
   "source": []
  }
 ],
 "metadata": {
  "kernelspec": {
   "display_name": "Python 3 (ipykernel)",
   "language": "python",
   "name": "python3"
  },
  "language_info": {
   "codemirror_mode": {
    "name": "ipython",
    "version": 3
   },
   "file_extension": ".py",
   "mimetype": "text/x-python",
   "name": "python",
   "nbconvert_exporter": "python",
   "pygments_lexer": "ipython3",
   "version": "3.12.4"
  }
 },
 "nbformat": 4,
 "nbformat_minor": 5
}
